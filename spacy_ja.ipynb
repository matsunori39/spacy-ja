{
  "nbformat": 4,
  "nbformat_minor": 0,
  "metadata": {
    "colab": {
      "name": "spacy-ja.ipynb",
      "provenance": [],
      "authorship_tag": "ABX9TyNQCbCmxfrvd33sRAx3GGug",
      "include_colab_link": true
    },
    "kernelspec": {
      "name": "python3",
      "display_name": "Python 3"
    },
    "language_info": {
      "name": "python"
    }
  },
  "cells": [
    {
      "cell_type": "markdown",
      "metadata": {
        "id": "view-in-github",
        "colab_type": "text"
      },
      "source": [
        "<a href=\"https://colab.research.google.com/github/matsunori39/spacy-ja/blob/main/spacy_ja.ipynb\" target=\"_parent\"><img src=\"https://colab.research.google.com/assets/colab-badge.svg\" alt=\"Open In Colab\"/></a>"
      ]
    },
    {
      "cell_type": "markdown",
      "source": [
        "# spaCyを使った先進的な自然言語処理\n",
        "https://course.spacy.io/ja"
      ],
      "metadata": {
        "id": "co5DaIhQq8kp"
      }
    },
    {
      "cell_type": "markdown",
      "source": [
        "# 第1章: 単語やフレーズ、名前、概念の検索"
      ],
      "metadata": {
        "id": "5wFiSOuYqv6i"
      }
    },
    {
      "cell_type": "markdown",
      "source": [
        "## 1.1. はじめに"
      ],
      "metadata": {
        "id": "z43oY7wQrPvT"
      }
    },
    {
      "cell_type": "code",
      "source": [
        "!pip show spacy"
      ],
      "metadata": {
        "colab": {
          "base_uri": "https://localhost:8080/"
        },
        "id": "HviGhLkirHuo",
        "outputId": "c167615c-d73a-454c-81a9-8e15f684f983"
      },
      "execution_count": 1,
      "outputs": [
        {
          "output_type": "stream",
          "name": "stdout",
          "text": [
            "Name: spacy\n",
            "Version: 2.2.4\n",
            "Summary: Industrial-strength Natural Language Processing (NLP) in Python\n",
            "Home-page: https://spacy.io\n",
            "Author: Explosion\n",
            "Author-email: contact@explosion.ai\n",
            "License: MIT\n",
            "Location: /usr/local/lib/python3.7/dist-packages\n",
            "Requires: thinc, plac, srsly, blis, wasabi, catalogue, preshed, murmurhash, tqdm, cymem, setuptools, numpy, requests\n",
            "Required-by: fastai, en-core-web-sm\n"
          ]
        }
      ]
    },
    {
      "cell_type": "code",
      "source": [
        "!pip install -U spacy -q"
      ],
      "metadata": {
        "colab": {
          "base_uri": "https://localhost:8080/"
        },
        "id": "0YEXmjXrbzd9",
        "outputId": "64c6f91f-5e19-4d9f-f31f-23c15ab17734"
      },
      "execution_count": 2,
      "outputs": [
        {
          "output_type": "stream",
          "name": "stdout",
          "text": [
            "\u001b[K     |████████████████████████████████| 6.0 MB 11.4 MB/s \n",
            "\u001b[K     |████████████████████████████████| 10.1 MB 15.3 MB/s \n",
            "\u001b[K     |████████████████████████████████| 628 kB 49.7 MB/s \n",
            "\u001b[K     |████████████████████████████████| 181 kB 74.7 MB/s \n",
            "\u001b[K     |████████████████████████████████| 42 kB 1.3 MB/s \n",
            "\u001b[K     |████████████████████████████████| 451 kB 66.2 MB/s \n",
            "\u001b[?25h"
          ]
        }
      ]
    },
    {
      "cell_type": "code",
      "source": [
        "!pip show spacy"
      ],
      "metadata": {
        "colab": {
          "base_uri": "https://localhost:8080/"
        },
        "id": "j4uKSxAIkaqB",
        "outputId": "a807cfa7-2a5b-40f9-af8a-87f7a33fd718"
      },
      "execution_count": 3,
      "outputs": [
        {
          "output_type": "stream",
          "name": "stdout",
          "text": [
            "Name: spacy\n",
            "Version: 3.2.1\n",
            "Summary: Industrial-strength Natural Language Processing (NLP) in Python\n",
            "Home-page: https://spacy.io\n",
            "Author: Explosion\n",
            "Author-email: contact@explosion.ai\n",
            "License: MIT\n",
            "Location: /usr/local/lib/python3.7/dist-packages\n",
            "Requires: requests, cymem, wasabi, numpy, spacy-loggers, typing-extensions, thinc, catalogue, preshed, srsly, spacy-legacy, packaging, typer, blis, setuptools, pydantic, jinja2, tqdm, murmurhash, langcodes, pathy\n",
            "Required-by: fastai, en-core-web-sm\n"
          ]
        }
      ]
    },
    {
      "cell_type": "code",
      "source": [
        "!pip install spacy[ja] -q"
      ],
      "metadata": {
        "colab": {
          "base_uri": "https://localhost:8080/"
        },
        "id": "1LTwF6JjsCh-",
        "outputId": "44e13223-7a46-4940-8850-7fb2c4d0f45b"
      },
      "execution_count": 4,
      "outputs": [
        {
          "output_type": "stream",
          "name": "stdout",
          "text": [
            "\u001b[K     |████████████████████████████████| 2.2 MB 41.0 MB/s \n",
            "\u001b[?25h  Building wheel for sudachidict-core (setup.py) ... \u001b[?25l\u001b[?25hdone\n"
          ]
        }
      ]
    },
    {
      "cell_type": "markdown",
      "source": [
        "### nlpオブジェクト"
      ],
      "metadata": {
        "id": "gZK8eR5vrYKy"
      }
    },
    {
      "cell_type": "code",
      "source": [
        "# spaCyをインポート\n",
        "import spacy\n",
        "\n",
        "# 日本語のnlpオブジェクトを作成\n",
        "nlp = spacy.blank(\"ja\")"
      ],
      "metadata": {
        "id": "WkKvbG2IrhJQ"
      },
      "execution_count": 8,
      "outputs": []
    },
    {
      "cell_type": "markdown",
      "source": [
        "### Docオブジェクト"
      ],
      "metadata": {
        "id": "l5hi70fTrskV"
      }
    },
    {
      "cell_type": "code",
      "source": [
        "# nlpを用いて、テキストを処理することで作成\n",
        "doc = nlp(\"おはようございます!\")\n",
        "\n",
        "# Docからtokenを取り出す\n",
        "for token in doc:\n",
        "    print(token.text)"
      ],
      "metadata": {
        "colab": {
          "base_uri": "https://localhost:8080/"
        },
        "id": "sjCjNcaljTg3",
        "outputId": "a5790b8f-875e-4437-f43b-654bddb9f5f8"
      },
      "execution_count": 9,
      "outputs": [
        {
          "output_type": "stream",
          "name": "stdout",
          "text": [
            "おはよう\n",
            "ござい\n",
            "ます\n",
            "!\n"
          ]
        }
      ]
    },
    {
      "cell_type": "markdown",
      "source": [
        "### Tokenオブジェクト"
      ],
      "metadata": {
        "id": "NrWPBVPLjZE2"
      }
    },
    {
      "cell_type": "code",
      "source": [
        "doc = nlp(\"おはようございます!\")\n",
        "\n",
        "# インデックスでトークンを取得\n",
        "token = doc[1]\n",
        "\n",
        "# トークンの文字列を .text属性を使って取得\n",
        "print(token.text)"
      ],
      "metadata": {
        "colab": {
          "base_uri": "https://localhost:8080/"
        },
        "id": "S3RHmV3mp4wd",
        "outputId": "70641332-1eb3-4e8d-f833-15ec4bc1ff22"
      },
      "execution_count": 10,
      "outputs": [
        {
          "output_type": "stream",
          "name": "stdout",
          "text": [
            "ござい\n"
          ]
        }
      ]
    },
    {
      "cell_type": "markdown",
      "source": [
        "### Spanオブジェクト"
      ],
      "metadata": {
        "id": "o6V7CNwFqJWv"
      }
    },
    {
      "cell_type": "code",
      "source": [
        "doc = nlp(\"おはようございます!\")\n",
        "\n",
        "# `Doc`オブジェクトからスライスで`Span`オブジェクトを取得\n",
        "span = doc[1:3]\n",
        "\n",
        "# スパンの文字列を .text属性で得る\n",
        "print(span.text)"
      ],
      "metadata": {
        "colab": {
          "base_uri": "https://localhost:8080/"
        },
        "id": "_r3pzVkYqRhl",
        "outputId": "891c942a-832d-4fcd-d558-f3e75ef170bc"
      },
      "execution_count": 11,
      "outputs": [
        {
          "output_type": "stream",
          "name": "stdout",
          "text": [
            "ございます\n"
          ]
        }
      ]
    },
    {
      "cell_type": "markdown",
      "source": [
        "### 語彙の属性"
      ],
      "metadata": {
        "id": "Lq5s0oMMqxes"
      }
    },
    {
      "cell_type": "code",
      "source": [
        "doc = nlp(\"果汁100%のジュース。\")"
      ],
      "metadata": {
        "id": "6up5dq9Kq57Z"
      },
      "execution_count": 12,
      "outputs": []
    },
    {
      "cell_type": "code",
      "source": [
        "print(\"Index:   \", [token.i for token in doc])\n",
        "print(\"Text:    \", [token.text for token in doc])\n",
        "\n",
        "print(\"is_alpha:\", [token.is_alpha for token in doc])   # 文字列が文字(ひらがな・カタカナ・漢字、アルファベット等)からなるかどうか、\n",
        "print(\"is_punct:\", [token.is_punct for token in doc])   # 句読点かどうか\n",
        "print(\"like_num:\", [token.like_num for token in doc])   # 数字に似ているか\n",
        "\n",
        "# これらの属性は語彙のエントリを参照しており、文脈に依存しないため、語彙属性（lexical attributes）と呼ばれます。"
      ],
      "metadata": {
        "colab": {
          "base_uri": "https://localhost:8080/"
        },
        "id": "E85HpSDprAop",
        "outputId": "b291055a-812d-4b2c-9876-45c7f5f4e304"
      },
      "execution_count": 14,
      "outputs": [
        {
          "output_type": "stream",
          "name": "stdout",
          "text": [
            "Index:    [0, 1, 2, 3, 4, 5]\n",
            "Text:     ['果汁', '100', '%', 'の', 'ジュース', '。']\n",
            "is_alpha: [True, False, False, True, True, False]\n",
            "is_punct: [False, False, True, False, False, True]\n",
            "like_num: [False, True, False, False, False, False]\n"
          ]
        }
      ]
    },
    {
      "cell_type": "code",
      "source": [
        ""
      ],
      "metadata": {
        "id": "l00lSfFEsgU_"
      },
      "execution_count": null,
      "outputs": []
    }
  ]
}