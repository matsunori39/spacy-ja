{
  "nbformat": 4,
  "nbformat_minor": 0,
  "metadata": {
    "colab": {
      "name": "spacy-ja.ipynb",
      "provenance": [],
      "authorship_tag": "ABX9TyPL5NeOE+fKDDCWT+QZ/zwI",
      "include_colab_link": true
    },
    "kernelspec": {
      "name": "python3",
      "display_name": "Python 3"
    },
    "language_info": {
      "name": "python"
    }
  },
  "cells": [
    {
      "cell_type": "markdown",
      "metadata": {
        "id": "view-in-github",
        "colab_type": "text"
      },
      "source": [
        "<a href=\"https://colab.research.google.com/github/matsunori39/spacy-ja/blob/main/spacy_ja.ipynb\" target=\"_parent\"><img src=\"https://colab.research.google.com/assets/colab-badge.svg\" alt=\"Open In Colab\"/></a>"
      ]
    },
    {
      "cell_type": "markdown",
      "source": [
        "# spaCyを使った先進的な自然言語処理\n",
        "https://course.spacy.io/ja"
      ],
      "metadata": {
        "id": "co5DaIhQq8kp"
      }
    },
    {
      "cell_type": "markdown",
      "source": [
        "# 第1章: 単語やフレーズ、名前、概念の検索"
      ],
      "metadata": {
        "id": "5wFiSOuYqv6i"
      }
    },
    {
      "cell_type": "markdown",
      "source": [
        "## 1.1. はじめに"
      ],
      "metadata": {
        "id": "z43oY7wQrPvT"
      }
    },
    {
      "cell_type": "code",
      "source": [
        "# !pip list | grep spacy\n",
        "!pip list | grep spacy"
      ],
      "metadata": {
        "colab": {
          "base_uri": "https://localhost:8080/"
        },
        "id": "HviGhLkirHuo",
        "outputId": "2adf5c39-d36d-4765-e8b5-ef7d282b3989"
      },
      "execution_count": 2,
      "outputs": [
        {
          "output_type": "stream",
          "name": "stdout",
          "text": [
            "spacy                         2.2.4\n"
          ]
        }
      ]
    },
    {
      "cell_type": "code",
      "source": [
        "!pip install -U spacy -q"
      ],
      "metadata": {
        "colab": {
          "base_uri": "https://localhost:8080/"
        },
        "id": "0YEXmjXrbzd9",
        "outputId": "a207348f-1b45-455f-97d5-8896aa39b663"
      },
      "execution_count": 3,
      "outputs": [
        {
          "output_type": "stream",
          "name": "stdout",
          "text": [
            "\u001b[K     |████████████████████████████████| 6.0 MB 28.6 MB/s \n",
            "\u001b[K     |████████████████████████████████| 628 kB 51.9 MB/s \n",
            "\u001b[K     |████████████████████████████████| 42 kB 1.1 MB/s \n",
            "\u001b[K     |████████████████████████████████| 181 kB 60.6 MB/s \n",
            "\u001b[K     |████████████████████████████████| 451 kB 61.5 MB/s \n",
            "\u001b[K     |████████████████████████████████| 10.1 MB 35.1 MB/s \n",
            "\u001b[?25h"
          ]
        }
      ]
    },
    {
      "cell_type": "code",
      "source": [
        "!pip list | grep spacy"
      ],
      "metadata": {
        "colab": {
          "base_uri": "https://localhost:8080/"
        },
        "id": "j4uKSxAIkaqB",
        "outputId": "ec6a0e30-30cd-4317-f497-655c7aa1d191"
      },
      "execution_count": 4,
      "outputs": [
        {
          "output_type": "stream",
          "name": "stdout",
          "text": [
            "spacy                         3.2.1\n",
            "spacy-legacy                  3.0.8\n",
            "spacy-loggers                 1.0.1\n"
          ]
        }
      ]
    },
    {
      "cell_type": "code",
      "source": [
        "!pip install spacy[ja] -q"
      ],
      "metadata": {
        "colab": {
          "base_uri": "https://localhost:8080/"
        },
        "id": "1LTwF6JjsCh-",
        "outputId": "34c4ae58-e35f-46e0-a6ab-c74643f1d2ca"
      },
      "execution_count": 5,
      "outputs": [
        {
          "output_type": "stream",
          "name": "stdout",
          "text": [
            "\u001b[?25l\r\u001b[K     |▏                               | 10 kB 13.5 MB/s eta 0:00:01\r\u001b[K     |▎                               | 20 kB 16.3 MB/s eta 0:00:01\r\u001b[K     |▌                               | 30 kB 19.1 MB/s eta 0:00:01\r\u001b[K     |▋                               | 40 kB 21.0 MB/s eta 0:00:01\r\u001b[K     |▊                               | 51 kB 21.3 MB/s eta 0:00:01\r\u001b[K     |█                               | 61 kB 22.4 MB/s eta 0:00:01\r\u001b[K     |█                               | 71 kB 23.1 MB/s eta 0:00:01\r\u001b[K     |█▏                              | 81 kB 23.9 MB/s eta 0:00:01\r\u001b[K     |█▍                              | 92 kB 25.4 MB/s eta 0:00:01\r\u001b[K     |█▌                              | 102 kB 25.5 MB/s eta 0:00:01\r\u001b[K     |█▋                              | 112 kB 25.5 MB/s eta 0:00:01\r\u001b[K     |█▉                              | 122 kB 25.5 MB/s eta 0:00:01\r\u001b[K     |██                              | 133 kB 25.5 MB/s eta 0:00:01\r\u001b[K     |██                              | 143 kB 25.5 MB/s eta 0:00:01\r\u001b[K     |██▎                             | 153 kB 25.5 MB/s eta 0:00:01\r\u001b[K     |██▍                             | 163 kB 25.5 MB/s eta 0:00:01\r\u001b[K     |██▌                             | 174 kB 25.5 MB/s eta 0:00:01\r\u001b[K     |██▊                             | 184 kB 25.5 MB/s eta 0:00:01\r\u001b[K     |██▉                             | 194 kB 25.5 MB/s eta 0:00:01\r\u001b[K     |███                             | 204 kB 25.5 MB/s eta 0:00:01\r\u001b[K     |███▏                            | 215 kB 25.5 MB/s eta 0:00:01\r\u001b[K     |███▎                            | 225 kB 25.5 MB/s eta 0:00:01\r\u001b[K     |███▌                            | 235 kB 25.5 MB/s eta 0:00:01\r\u001b[K     |███▋                            | 245 kB 25.5 MB/s eta 0:00:01\r\u001b[K     |███▊                            | 256 kB 25.5 MB/s eta 0:00:01\r\u001b[K     |████                            | 266 kB 25.5 MB/s eta 0:00:01\r\u001b[K     |████                            | 276 kB 25.5 MB/s eta 0:00:01\r\u001b[K     |████▏                           | 286 kB 25.5 MB/s eta 0:00:01\r\u001b[K     |████▍                           | 296 kB 25.5 MB/s eta 0:00:01\r\u001b[K     |████▌                           | 307 kB 25.5 MB/s eta 0:00:01\r\u001b[K     |████▋                           | 317 kB 25.5 MB/s eta 0:00:01\r\u001b[K     |████▉                           | 327 kB 25.5 MB/s eta 0:00:01\r\u001b[K     |█████                           | 337 kB 25.5 MB/s eta 0:00:01\r\u001b[K     |█████                           | 348 kB 25.5 MB/s eta 0:00:01\r\u001b[K     |█████▎                          | 358 kB 25.5 MB/s eta 0:00:01\r\u001b[K     |█████▍                          | 368 kB 25.5 MB/s eta 0:00:01\r\u001b[K     |█████▌                          | 378 kB 25.5 MB/s eta 0:00:01\r\u001b[K     |█████▊                          | 389 kB 25.5 MB/s eta 0:00:01\r\u001b[K     |█████▉                          | 399 kB 25.5 MB/s eta 0:00:01\r\u001b[K     |██████                          | 409 kB 25.5 MB/s eta 0:00:01\r\u001b[K     |██████▏                         | 419 kB 25.5 MB/s eta 0:00:01\r\u001b[K     |██████▎                         | 430 kB 25.5 MB/s eta 0:00:01\r\u001b[K     |██████▍                         | 440 kB 25.5 MB/s eta 0:00:01\r\u001b[K     |██████▋                         | 450 kB 25.5 MB/s eta 0:00:01\r\u001b[K     |██████▊                         | 460 kB 25.5 MB/s eta 0:00:01\r\u001b[K     |███████                         | 471 kB 25.5 MB/s eta 0:00:01\r\u001b[K     |███████                         | 481 kB 25.5 MB/s eta 0:00:01\r\u001b[K     |███████▏                        | 491 kB 25.5 MB/s eta 0:00:01\r\u001b[K     |███████▍                        | 501 kB 25.5 MB/s eta 0:00:01\r\u001b[K     |███████▌                        | 512 kB 25.5 MB/s eta 0:00:01\r\u001b[K     |███████▋                        | 522 kB 25.5 MB/s eta 0:00:01\r\u001b[K     |███████▉                        | 532 kB 25.5 MB/s eta 0:00:01\r\u001b[K     |████████                        | 542 kB 25.5 MB/s eta 0:00:01\r\u001b[K     |████████                        | 552 kB 25.5 MB/s eta 0:00:01\r\u001b[K     |████████▎                       | 563 kB 25.5 MB/s eta 0:00:01\r\u001b[K     |████████▍                       | 573 kB 25.5 MB/s eta 0:00:01\r\u001b[K     |████████▌                       | 583 kB 25.5 MB/s eta 0:00:01\r\u001b[K     |████████▊                       | 593 kB 25.5 MB/s eta 0:00:01\r\u001b[K     |████████▉                       | 604 kB 25.5 MB/s eta 0:00:01\r\u001b[K     |█████████                       | 614 kB 25.5 MB/s eta 0:00:01\r\u001b[K     |█████████▏                      | 624 kB 25.5 MB/s eta 0:00:01\r\u001b[K     |█████████▎                      | 634 kB 25.5 MB/s eta 0:00:01\r\u001b[K     |█████████▍                      | 645 kB 25.5 MB/s eta 0:00:01\r\u001b[K     |█████████▋                      | 655 kB 25.5 MB/s eta 0:00:01\r\u001b[K     |█████████▊                      | 665 kB 25.5 MB/s eta 0:00:01\r\u001b[K     |█████████▉                      | 675 kB 25.5 MB/s eta 0:00:01\r\u001b[K     |██████████                      | 686 kB 25.5 MB/s eta 0:00:01\r\u001b[K     |██████████▏                     | 696 kB 25.5 MB/s eta 0:00:01\r\u001b[K     |██████████▍                     | 706 kB 25.5 MB/s eta 0:00:01\r\u001b[K     |██████████▌                     | 716 kB 25.5 MB/s eta 0:00:01\r\u001b[K     |██████████▋                     | 727 kB 25.5 MB/s eta 0:00:01\r\u001b[K     |██████████▉                     | 737 kB 25.5 MB/s eta 0:00:01\r\u001b[K     |███████████                     | 747 kB 25.5 MB/s eta 0:00:01\r\u001b[K     |███████████                     | 757 kB 25.5 MB/s eta 0:00:01\r\u001b[K     |███████████▎                    | 768 kB 25.5 MB/s eta 0:00:01\r\u001b[K     |███████████▍                    | 778 kB 25.5 MB/s eta 0:00:01\r\u001b[K     |███████████▌                    | 788 kB 25.5 MB/s eta 0:00:01\r\u001b[K     |███████████▊                    | 798 kB 25.5 MB/s eta 0:00:01\r\u001b[K     |███████████▉                    | 808 kB 25.5 MB/s eta 0:00:01\r\u001b[K     |████████████                    | 819 kB 25.5 MB/s eta 0:00:01\r\u001b[K     |████████████▏                   | 829 kB 25.5 MB/s eta 0:00:01\r\u001b[K     |████████████▎                   | 839 kB 25.5 MB/s eta 0:00:01\r\u001b[K     |████████████▍                   | 849 kB 25.5 MB/s eta 0:00:01\r\u001b[K     |████████████▋                   | 860 kB 25.5 MB/s eta 0:00:01\r\u001b[K     |████████████▊                   | 870 kB 25.5 MB/s eta 0:00:01\r\u001b[K     |████████████▉                   | 880 kB 25.5 MB/s eta 0:00:01\r\u001b[K     |█████████████                   | 890 kB 25.5 MB/s eta 0:00:01\r\u001b[K     |█████████████▏                  | 901 kB 25.5 MB/s eta 0:00:01\r\u001b[K     |█████████████▍                  | 911 kB 25.5 MB/s eta 0:00:01\r\u001b[K     |█████████████▌                  | 921 kB 25.5 MB/s eta 0:00:01\r\u001b[K     |█████████████▋                  | 931 kB 25.5 MB/s eta 0:00:01\r\u001b[K     |█████████████▉                  | 942 kB 25.5 MB/s eta 0:00:01\r\u001b[K     |██████████████                  | 952 kB 25.5 MB/s eta 0:00:01\r\u001b[K     |██████████████                  | 962 kB 25.5 MB/s eta 0:00:01\r\u001b[K     |██████████████▎                 | 972 kB 25.5 MB/s eta 0:00:01\r\u001b[K     |██████████████▍                 | 983 kB 25.5 MB/s eta 0:00:01\r\u001b[K     |██████████████▌                 | 993 kB 25.5 MB/s eta 0:00:01\r\u001b[K     |██████████████▊                 | 1.0 MB 25.5 MB/s eta 0:00:01\r\u001b[K     |██████████████▉                 | 1.0 MB 25.5 MB/s eta 0:00:01\r\u001b[K     |███████████████                 | 1.0 MB 25.5 MB/s eta 0:00:01\r\u001b[K     |███████████████▏                | 1.0 MB 25.5 MB/s eta 0:00:01\r\u001b[K     |███████████████▎                | 1.0 MB 25.5 MB/s eta 0:00:01\r\u001b[K     |███████████████▍                | 1.1 MB 25.5 MB/s eta 0:00:01\r\u001b[K     |███████████████▋                | 1.1 MB 25.5 MB/s eta 0:00:01\r\u001b[K     |███████████████▊                | 1.1 MB 25.5 MB/s eta 0:00:01\r\u001b[K     |███████████████▉                | 1.1 MB 25.5 MB/s eta 0:00:01\r\u001b[K     |████████████████                | 1.1 MB 25.5 MB/s eta 0:00:01\r\u001b[K     |████████████████▏               | 1.1 MB 25.5 MB/s eta 0:00:01\r\u001b[K     |████████████████▎               | 1.1 MB 25.5 MB/s eta 0:00:01\r\u001b[K     |████████████████▌               | 1.1 MB 25.5 MB/s eta 0:00:01\r\u001b[K     |████████████████▋               | 1.1 MB 25.5 MB/s eta 0:00:01\r\u001b[K     |████████████████▉               | 1.1 MB 25.5 MB/s eta 0:00:01\r\u001b[K     |█████████████████               | 1.2 MB 25.5 MB/s eta 0:00:01\r\u001b[K     |█████████████████               | 1.2 MB 25.5 MB/s eta 0:00:01\r\u001b[K     |█████████████████▎              | 1.2 MB 25.5 MB/s eta 0:00:01\r\u001b[K     |█████████████████▍              | 1.2 MB 25.5 MB/s eta 0:00:01\r\u001b[K     |█████████████████▌              | 1.2 MB 25.5 MB/s eta 0:00:01\r\u001b[K     |█████████████████▊              | 1.2 MB 25.5 MB/s eta 0:00:01\r\u001b[K     |█████████████████▉              | 1.2 MB 25.5 MB/s eta 0:00:01\r\u001b[K     |██████████████████              | 1.2 MB 25.5 MB/s eta 0:00:01\r\u001b[K     |██████████████████▏             | 1.2 MB 25.5 MB/s eta 0:00:01\r\u001b[K     |██████████████████▎             | 1.2 MB 25.5 MB/s eta 0:00:01\r\u001b[K     |██████████████████▍             | 1.3 MB 25.5 MB/s eta 0:00:01\r\u001b[K     |██████████████████▋             | 1.3 MB 25.5 MB/s eta 0:00:01\r\u001b[K     |██████████████████▊             | 1.3 MB 25.5 MB/s eta 0:00:01\r\u001b[K     |██████████████████▉             | 1.3 MB 25.5 MB/s eta 0:00:01\r\u001b[K     |███████████████████             | 1.3 MB 25.5 MB/s eta 0:00:01\r\u001b[K     |███████████████████▏            | 1.3 MB 25.5 MB/s eta 0:00:01\r\u001b[K     |███████████████████▎            | 1.3 MB 25.5 MB/s eta 0:00:01\r\u001b[K     |███████████████████▌            | 1.3 MB 25.5 MB/s eta 0:00:01\r\u001b[K     |███████████████████▋            | 1.3 MB 25.5 MB/s eta 0:00:01\r\u001b[K     |███████████████████▊            | 1.4 MB 25.5 MB/s eta 0:00:01\r\u001b[K     |████████████████████            | 1.4 MB 25.5 MB/s eta 0:00:01\r\u001b[K     |████████████████████            | 1.4 MB 25.5 MB/s eta 0:00:01\r\u001b[K     |████████████████████▎           | 1.4 MB 25.5 MB/s eta 0:00:01\r\u001b[K     |████████████████████▍           | 1.4 MB 25.5 MB/s eta 0:00:01\r\u001b[K     |████████████████████▌           | 1.4 MB 25.5 MB/s eta 0:00:01\r\u001b[K     |████████████████████▊           | 1.4 MB 25.5 MB/s eta 0:00:01\r\u001b[K     |████████████████████▉           | 1.4 MB 25.5 MB/s eta 0:00:01\r\u001b[K     |█████████████████████           | 1.4 MB 25.5 MB/s eta 0:00:01\r\u001b[K     |█████████████████████▏          | 1.4 MB 25.5 MB/s eta 0:00:01\r\u001b[K     |█████████████████████▎          | 1.5 MB 25.5 MB/s eta 0:00:01\r\u001b[K     |█████████████████████▍          | 1.5 MB 25.5 MB/s eta 0:00:01\r\u001b[K     |█████████████████████▋          | 1.5 MB 25.5 MB/s eta 0:00:01\r\u001b[K     |█████████████████████▊          | 1.5 MB 25.5 MB/s eta 0:00:01\r\u001b[K     |█████████████████████▉          | 1.5 MB 25.5 MB/s eta 0:00:01\r\u001b[K     |██████████████████████          | 1.5 MB 25.5 MB/s eta 0:00:01\r\u001b[K     |██████████████████████▏         | 1.5 MB 25.5 MB/s eta 0:00:01\r\u001b[K     |██████████████████████▎         | 1.5 MB 25.5 MB/s eta 0:00:01\r\u001b[K     |██████████████████████▌         | 1.5 MB 25.5 MB/s eta 0:00:01\r\u001b[K     |██████████████████████▋         | 1.5 MB 25.5 MB/s eta 0:00:01\r\u001b[K     |██████████████████████▊         | 1.6 MB 25.5 MB/s eta 0:00:01\r\u001b[K     |███████████████████████         | 1.6 MB 25.5 MB/s eta 0:00:01\r\u001b[K     |███████████████████████         | 1.6 MB 25.5 MB/s eta 0:00:01\r\u001b[K     |███████████████████████▏        | 1.6 MB 25.5 MB/s eta 0:00:01\r\u001b[K     |███████████████████████▍        | 1.6 MB 25.5 MB/s eta 0:00:01\r\u001b[K     |███████████████████████▌        | 1.6 MB 25.5 MB/s eta 0:00:01\r\u001b[K     |███████████████████████▊        | 1.6 MB 25.5 MB/s eta 0:00:01\r\u001b[K     |███████████████████████▉        | 1.6 MB 25.5 MB/s eta 0:00:01\r\u001b[K     |████████████████████████        | 1.6 MB 25.5 MB/s eta 0:00:01\r\u001b[K     |████████████████████████▏       | 1.6 MB 25.5 MB/s eta 0:00:01\r\u001b[K     |████████████████████████▎       | 1.7 MB 25.5 MB/s eta 0:00:01\r\u001b[K     |████████████████████████▍       | 1.7 MB 25.5 MB/s eta 0:00:01\r\u001b[K     |████████████████████████▋       | 1.7 MB 25.5 MB/s eta 0:00:01\r\u001b[K     |████████████████████████▊       | 1.7 MB 25.5 MB/s eta 0:00:01\r\u001b[K     |████████████████████████▉       | 1.7 MB 25.5 MB/s eta 0:00:01\r\u001b[K     |█████████████████████████       | 1.7 MB 25.5 MB/s eta 0:00:01\r\u001b[K     |█████████████████████████▏      | 1.7 MB 25.5 MB/s eta 0:00:01\r\u001b[K     |█████████████████████████▎      | 1.7 MB 25.5 MB/s eta 0:00:01\r\u001b[K     |█████████████████████████▌      | 1.7 MB 25.5 MB/s eta 0:00:01\r\u001b[K     |█████████████████████████▋      | 1.8 MB 25.5 MB/s eta 0:00:01\r\u001b[K     |█████████████████████████▊      | 1.8 MB 25.5 MB/s eta 0:00:01\r\u001b[K     |██████████████████████████      | 1.8 MB 25.5 MB/s eta 0:00:01\r\u001b[K     |██████████████████████████      | 1.8 MB 25.5 MB/s eta 0:00:01\r\u001b[K     |██████████████████████████▏     | 1.8 MB 25.5 MB/s eta 0:00:01\r\u001b[K     |██████████████████████████▍     | 1.8 MB 25.5 MB/s eta 0:00:01\r\u001b[K     |██████████████████████████▌     | 1.8 MB 25.5 MB/s eta 0:00:01\r\u001b[K     |██████████████████████████▊     | 1.8 MB 25.5 MB/s eta 0:00:01\r\u001b[K     |██████████████████████████▉     | 1.8 MB 25.5 MB/s eta 0:00:01\r\u001b[K     |███████████████████████████     | 1.8 MB 25.5 MB/s eta 0:00:01\r\u001b[K     |███████████████████████████▏    | 1.9 MB 25.5 MB/s eta 0:00:01\r\u001b[K     |███████████████████████████▎    | 1.9 MB 25.5 MB/s eta 0:00:01\r\u001b[K     |███████████████████████████▍    | 1.9 MB 25.5 MB/s eta 0:00:01\r\u001b[K     |███████████████████████████▋    | 1.9 MB 25.5 MB/s eta 0:00:01\r\u001b[K     |███████████████████████████▊    | 1.9 MB 25.5 MB/s eta 0:00:01\r\u001b[K     |███████████████████████████▉    | 1.9 MB 25.5 MB/s eta 0:00:01\r\u001b[K     |████████████████████████████    | 1.9 MB 25.5 MB/s eta 0:00:01\r\u001b[K     |████████████████████████████▏   | 1.9 MB 25.5 MB/s eta 0:00:01\r\u001b[K     |████████████████████████████▎   | 1.9 MB 25.5 MB/s eta 0:00:01\r\u001b[K     |████████████████████████████▌   | 1.9 MB 25.5 MB/s eta 0:00:01\r\u001b[K     |████████████████████████████▋   | 2.0 MB 25.5 MB/s eta 0:00:01\r\u001b[K     |████████████████████████████▊   | 2.0 MB 25.5 MB/s eta 0:00:01\r\u001b[K     |█████████████████████████████   | 2.0 MB 25.5 MB/s eta 0:00:01\r\u001b[K     |█████████████████████████████   | 2.0 MB 25.5 MB/s eta 0:00:01\r\u001b[K     |█████████████████████████████▏  | 2.0 MB 25.5 MB/s eta 0:00:01\r\u001b[K     |█████████████████████████████▍  | 2.0 MB 25.5 MB/s eta 0:00:01\r\u001b[K     |█████████████████████████████▌  | 2.0 MB 25.5 MB/s eta 0:00:01\r\u001b[K     |█████████████████████████████▋  | 2.0 MB 25.5 MB/s eta 0:00:01\r\u001b[K     |█████████████████████████████▉  | 2.0 MB 25.5 MB/s eta 0:00:01\r\u001b[K     |██████████████████████████████  | 2.0 MB 25.5 MB/s eta 0:00:01\r\u001b[K     |██████████████████████████████▏ | 2.1 MB 25.5 MB/s eta 0:00:01\r\u001b[K     |██████████████████████████████▎ | 2.1 MB 25.5 MB/s eta 0:00:01\r\u001b[K     |██████████████████████████████▍ | 2.1 MB 25.5 MB/s eta 0:00:01\r\u001b[K     |██████████████████████████████▋ | 2.1 MB 25.5 MB/s eta 0:00:01\r\u001b[K     |██████████████████████████████▊ | 2.1 MB 25.5 MB/s eta 0:00:01\r\u001b[K     |██████████████████████████████▉ | 2.1 MB 25.5 MB/s eta 0:00:01\r\u001b[K     |███████████████████████████████ | 2.1 MB 25.5 MB/s eta 0:00:01\r\u001b[K     |███████████████████████████████▏| 2.1 MB 25.5 MB/s eta 0:00:01\r\u001b[K     |███████████████████████████████▎| 2.1 MB 25.5 MB/s eta 0:00:01\r\u001b[K     |███████████████████████████████▌| 2.2 MB 25.5 MB/s eta 0:00:01\r\u001b[K     |███████████████████████████████▋| 2.2 MB 25.5 MB/s eta 0:00:01\r\u001b[K     |███████████████████████████████▊| 2.2 MB 25.5 MB/s eta 0:00:01\r\u001b[K     |████████████████████████████████| 2.2 MB 25.5 MB/s eta 0:00:01\r\u001b[K     |████████████████████████████████| 2.2 MB 25.5 MB/s \n",
            "\u001b[?25h  Building wheel for sudachidict-core (setup.py) ... \u001b[?25l\u001b[?25hdone\n"
          ]
        }
      ]
    },
    {
      "cell_type": "markdown",
      "source": [
        "### nlpオブジェクト"
      ],
      "metadata": {
        "id": "gZK8eR5vrYKy"
      }
    },
    {
      "cell_type": "code",
      "source": [
        "# spaCyをインポート\n",
        "import spacy\n",
        "\n",
        "# 日本語のnlpオブジェクトを作成\n",
        "nlp = spacy.blank(\"ja\")"
      ],
      "metadata": {
        "id": "WkKvbG2IrhJQ"
      },
      "execution_count": 6,
      "outputs": []
    },
    {
      "cell_type": "markdown",
      "source": [
        "### Docオブジェクト"
      ],
      "metadata": {
        "id": "l5hi70fTrskV"
      }
    },
    {
      "cell_type": "code",
      "source": [
        "# nlpを用いて、テキストを処理することで作成\n",
        "doc = nlp(\"おはようございます!\")\n",
        "\n",
        "# Docからtokenを取り出す\n",
        "for token in doc:\n",
        "    print(token.text)"
      ],
      "metadata": {
        "colab": {
          "base_uri": "https://localhost:8080/"
        },
        "id": "sjCjNcaljTg3",
        "outputId": "46c4c2e6-4bfa-4969-c676-a5489b226102"
      },
      "execution_count": 7,
      "outputs": [
        {
          "output_type": "stream",
          "name": "stdout",
          "text": [
            "おはよう\n",
            "ござい\n",
            "ます\n",
            "!\n"
          ]
        }
      ]
    },
    {
      "cell_type": "markdown",
      "source": [
        "### Tokenオブジェクト"
      ],
      "metadata": {
        "id": "NrWPBVPLjZE2"
      }
    },
    {
      "cell_type": "code",
      "source": [
        "doc = nlp(\"おはようございます!\")\n",
        "\n",
        "# インデックスでトークンを取得\n",
        "token = doc[1]\n",
        "\n",
        "# トークンの文字列を .text属性を使って取得\n",
        "print(token.text)"
      ],
      "metadata": {
        "colab": {
          "base_uri": "https://localhost:8080/"
        },
        "id": "S3RHmV3mp4wd",
        "outputId": "c43221cd-4cc8-4e6f-8942-793ac7828227"
      },
      "execution_count": 8,
      "outputs": [
        {
          "output_type": "stream",
          "name": "stdout",
          "text": [
            "ござい\n"
          ]
        }
      ]
    },
    {
      "cell_type": "markdown",
      "source": [
        "### Spanオブジェクト"
      ],
      "metadata": {
        "id": "o6V7CNwFqJWv"
      }
    },
    {
      "cell_type": "code",
      "source": [
        "doc = nlp(\"おはようございます!\")\n",
        "\n",
        "# `Doc`オブジェクトからスライスで`Span`オブジェクトを取得\n",
        "span = doc[1:3]\n",
        "\n",
        "# スパンの文字列を .text属性で得る\n",
        "print(span.text)"
      ],
      "metadata": {
        "colab": {
          "base_uri": "https://localhost:8080/"
        },
        "id": "_r3pzVkYqRhl",
        "outputId": "0a506836-4495-46fd-e23c-2d52e9eaddb1"
      },
      "execution_count": 9,
      "outputs": [
        {
          "output_type": "stream",
          "name": "stdout",
          "text": [
            "ございます\n"
          ]
        }
      ]
    },
    {
      "cell_type": "markdown",
      "source": [
        "### 語彙の属性"
      ],
      "metadata": {
        "id": "Lq5s0oMMqxes"
      }
    },
    {
      "cell_type": "code",
      "source": [
        "doc = nlp(\"果汁100%のジュース。\")"
      ],
      "metadata": {
        "id": "6up5dq9Kq57Z"
      },
      "execution_count": 10,
      "outputs": []
    },
    {
      "cell_type": "code",
      "source": [
        "print(\"Index:   \", [token.i for token in doc])\n",
        "print(\"Text:    \", [token.text for token in doc])\n",
        "\n",
        "print(\"is_alpha:\", [token.is_alpha for token in doc])   # 文字列が文字(ひらがな・カタカナ・漢字、アルファベット等)からなるかどうか、\n",
        "print(\"is_punct:\", [token.is_punct for token in doc])   # 句読点かどうか\n",
        "print(\"like_num:\", [token.like_num for token in doc])   # 数字に似ているか\n",
        "\n",
        "# これらの属性は語彙のエントリを参照しており、文脈に依存しないため、語彙属性（lexical attributes）と呼ばれます。"
      ],
      "metadata": {
        "colab": {
          "base_uri": "https://localhost:8080/"
        },
        "id": "E85HpSDprAop",
        "outputId": "37dcbc32-4b97-4593-9804-24b486297169"
      },
      "execution_count": 11,
      "outputs": [
        {
          "output_type": "stream",
          "name": "stdout",
          "text": [
            "Index:    [0, 1, 2, 3, 4, 5]\n",
            "Text:     ['果汁', '100', '%', 'の', 'ジュース', '。']\n",
            "is_alpha: [True, False, False, True, True, False]\n",
            "is_punct: [False, False, True, False, False, True]\n",
            "like_num: [False, True, False, False, False, False]\n"
          ]
        }
      ]
    },
    {
      "cell_type": "markdown",
      "source": [
        "# 機械学習パイプライン"
      ],
      "metadata": {
        "id": "l00lSfFEsgU_"
      }
    },
    {
      "cell_type": "markdown",
      "source": [
        "## パイプラインパッケージ"
      ],
      "metadata": {
        "id": "jcPdT_9V422l"
      }
    },
    {
      "cell_type": "code",
      "source": [
        "!python -m spacy download ja_core_news_sm"
      ],
      "metadata": {
        "colab": {
          "base_uri": "https://localhost:8080/"
        },
        "id": "Xga1D7Qq5CMg",
        "outputId": "ac7bc0ef-ead2-4c77-c790-b56210a2d052"
      },
      "execution_count": 12,
      "outputs": [
        {
          "output_type": "stream",
          "name": "stdout",
          "text": [
            "Collecting ja-core-news-sm==3.2.0\n",
            "  Downloading https://github.com/explosion/spacy-models/releases/download/ja_core_news_sm-3.2.0/ja_core_news_sm-3.2.0-py3-none-any.whl (13.0 MB)\n",
            "\u001b[K     |████████████████████████████████| 13.0 MB 9.7 MB/s \n",
            "\u001b[?25hRequirement already satisfied: sudachidict-core>=20200330 in /usr/local/lib/python3.7/dist-packages (from ja-core-news-sm==3.2.0) (20211220)\n",
            "Requirement already satisfied: spacy<3.3.0,>=3.2.0 in /usr/local/lib/python3.7/dist-packages (from ja-core-news-sm==3.2.0) (3.2.1)\n",
            "Requirement already satisfied: sudachipy>=0.4.9 in /usr/local/lib/python3.7/dist-packages (from ja-core-news-sm==3.2.0) (0.6.3)\n",
            "Requirement already satisfied: spacy-legacy<3.1.0,>=3.0.8 in /usr/local/lib/python3.7/dist-packages (from spacy<3.3.0,>=3.2.0->ja-core-news-sm==3.2.0) (3.0.8)\n",
            "Requirement already satisfied: tqdm<5.0.0,>=4.38.0 in /usr/local/lib/python3.7/dist-packages (from spacy<3.3.0,>=3.2.0->ja-core-news-sm==3.2.0) (4.62.3)\n",
            "Requirement already satisfied: setuptools in /usr/local/lib/python3.7/dist-packages (from spacy<3.3.0,>=3.2.0->ja-core-news-sm==3.2.0) (57.4.0)\n",
            "Requirement already satisfied: requests<3.0.0,>=2.13.0 in /usr/local/lib/python3.7/dist-packages (from spacy<3.3.0,>=3.2.0->ja-core-news-sm==3.2.0) (2.23.0)\n",
            "Requirement already satisfied: cymem<2.1.0,>=2.0.2 in /usr/local/lib/python3.7/dist-packages (from spacy<3.3.0,>=3.2.0->ja-core-news-sm==3.2.0) (2.0.6)\n",
            "Requirement already satisfied: langcodes<4.0.0,>=3.2.0 in /usr/local/lib/python3.7/dist-packages (from spacy<3.3.0,>=3.2.0->ja-core-news-sm==3.2.0) (3.3.0)\n",
            "Requirement already satisfied: catalogue<2.1.0,>=2.0.6 in /usr/local/lib/python3.7/dist-packages (from spacy<3.3.0,>=3.2.0->ja-core-news-sm==3.2.0) (2.0.6)\n",
            "Requirement already satisfied: pathy>=0.3.5 in /usr/local/lib/python3.7/dist-packages (from spacy<3.3.0,>=3.2.0->ja-core-news-sm==3.2.0) (0.6.1)\n",
            "Requirement already satisfied: numpy>=1.15.0 in /usr/local/lib/python3.7/dist-packages (from spacy<3.3.0,>=3.2.0->ja-core-news-sm==3.2.0) (1.19.5)\n",
            "Requirement already satisfied: preshed<3.1.0,>=3.0.2 in /usr/local/lib/python3.7/dist-packages (from spacy<3.3.0,>=3.2.0->ja-core-news-sm==3.2.0) (3.0.6)\n",
            "Requirement already satisfied: spacy-loggers<2.0.0,>=1.0.0 in /usr/local/lib/python3.7/dist-packages (from spacy<3.3.0,>=3.2.0->ja-core-news-sm==3.2.0) (1.0.1)\n",
            "Requirement already satisfied: blis<0.8.0,>=0.4.0 in /usr/local/lib/python3.7/dist-packages (from spacy<3.3.0,>=3.2.0->ja-core-news-sm==3.2.0) (0.4.1)\n",
            "Requirement already satisfied: srsly<3.0.0,>=2.4.1 in /usr/local/lib/python3.7/dist-packages (from spacy<3.3.0,>=3.2.0->ja-core-news-sm==3.2.0) (2.4.2)\n",
            "Requirement already satisfied: murmurhash<1.1.0,>=0.28.0 in /usr/local/lib/python3.7/dist-packages (from spacy<3.3.0,>=3.2.0->ja-core-news-sm==3.2.0) (1.0.6)\n",
            "Requirement already satisfied: packaging>=20.0 in /usr/local/lib/python3.7/dist-packages (from spacy<3.3.0,>=3.2.0->ja-core-news-sm==3.2.0) (21.3)\n",
            "Requirement already satisfied: wasabi<1.1.0,>=0.8.1 in /usr/local/lib/python3.7/dist-packages (from spacy<3.3.0,>=3.2.0->ja-core-news-sm==3.2.0) (0.9.0)\n",
            "Requirement already satisfied: typing-extensions<4.0.0.0,>=3.7.4 in /usr/local/lib/python3.7/dist-packages (from spacy<3.3.0,>=3.2.0->ja-core-news-sm==3.2.0) (3.10.0.2)\n",
            "Requirement already satisfied: pydantic!=1.8,!=1.8.1,<1.9.0,>=1.7.4 in /usr/local/lib/python3.7/dist-packages (from spacy<3.3.0,>=3.2.0->ja-core-news-sm==3.2.0) (1.8.2)\n",
            "Requirement already satisfied: typer<0.5.0,>=0.3.0 in /usr/local/lib/python3.7/dist-packages (from spacy<3.3.0,>=3.2.0->ja-core-news-sm==3.2.0) (0.4.0)\n",
            "Requirement already satisfied: thinc<8.1.0,>=8.0.12 in /usr/local/lib/python3.7/dist-packages (from spacy<3.3.0,>=3.2.0->ja-core-news-sm==3.2.0) (8.0.13)\n",
            "Requirement already satisfied: jinja2 in /usr/local/lib/python3.7/dist-packages (from spacy<3.3.0,>=3.2.0->ja-core-news-sm==3.2.0) (2.11.3)\n",
            "Requirement already satisfied: zipp>=0.5 in /usr/local/lib/python3.7/dist-packages (from catalogue<2.1.0,>=2.0.6->spacy<3.3.0,>=3.2.0->ja-core-news-sm==3.2.0) (3.7.0)\n",
            "Requirement already satisfied: pyparsing!=3.0.5,>=2.0.2 in /usr/local/lib/python3.7/dist-packages (from packaging>=20.0->spacy<3.3.0,>=3.2.0->ja-core-news-sm==3.2.0) (3.0.7)\n",
            "Requirement already satisfied: smart-open<6.0.0,>=5.0.0 in /usr/local/lib/python3.7/dist-packages (from pathy>=0.3.5->spacy<3.3.0,>=3.2.0->ja-core-news-sm==3.2.0) (5.2.1)\n",
            "Requirement already satisfied: certifi>=2017.4.17 in /usr/local/lib/python3.7/dist-packages (from requests<3.0.0,>=2.13.0->spacy<3.3.0,>=3.2.0->ja-core-news-sm==3.2.0) (2021.10.8)\n",
            "Requirement already satisfied: urllib3!=1.25.0,!=1.25.1,<1.26,>=1.21.1 in /usr/local/lib/python3.7/dist-packages (from requests<3.0.0,>=2.13.0->spacy<3.3.0,>=3.2.0->ja-core-news-sm==3.2.0) (1.24.3)\n",
            "Requirement already satisfied: chardet<4,>=3.0.2 in /usr/local/lib/python3.7/dist-packages (from requests<3.0.0,>=2.13.0->spacy<3.3.0,>=3.2.0->ja-core-news-sm==3.2.0) (3.0.4)\n",
            "Requirement already satisfied: idna<3,>=2.5 in /usr/local/lib/python3.7/dist-packages (from requests<3.0.0,>=2.13.0->spacy<3.3.0,>=3.2.0->ja-core-news-sm==3.2.0) (2.10)\n",
            "Requirement already satisfied: click<9.0.0,>=7.1.1 in /usr/local/lib/python3.7/dist-packages (from typer<0.5.0,>=0.3.0->spacy<3.3.0,>=3.2.0->ja-core-news-sm==3.2.0) (7.1.2)\n",
            "Requirement already satisfied: MarkupSafe>=0.23 in /usr/local/lib/python3.7/dist-packages (from jinja2->spacy<3.3.0,>=3.2.0->ja-core-news-sm==3.2.0) (2.0.1)\n",
            "Installing collected packages: ja-core-news-sm\n",
            "Successfully installed ja-core-news-sm-3.2.0\n",
            "\u001b[38;5;2m✔ Download and installation successful\u001b[0m\n",
            "You can now load the package via spacy.load('ja_core_news_sm')\n"
          ]
        }
      ]
    },
    {
      "cell_type": "code",
      "source": [
        "import spacy\n",
        "\n",
        "nlp = spacy.load(\"ja_core_news_sm\")"
      ],
      "metadata": {
        "id": "XnDrMYfw45ii"
      },
      "execution_count": 13,
      "outputs": []
    },
    {
      "cell_type": "markdown",
      "source": [
        "## 品詞タグの予測"
      ],
      "metadata": {
        "id": "g3GXUFbw5Anz"
      }
    },
    {
      "cell_type": "code",
      "source": [
        "import spacy\n",
        "\n",
        "# 日本語のパイプライン(小サイズ)をロード\n",
        "nlp = spacy.load(\"ja_core_news_sm\")\n",
        "\n",
        "# テキストを処理\n",
        "doc = nlp(\"彼女はおにぎりを食べた\")\n",
        "\n",
        "# tokenを順に処理\n",
        "for token in doc:\n",
        "  # テキストと、品詞タグの予測結果をプリント\n",
        "  print(token.text, token.pos_)"
      ],
      "metadata": {
        "colab": {
          "base_uri": "https://localhost:8080/"
        },
        "id": "A6MZYucdATfX",
        "outputId": "28c27b4b-9168-43a9-d121-8699197377c6"
      },
      "execution_count": 14,
      "outputs": [
        {
          "output_type": "stream",
          "name": "stdout",
          "text": [
            "彼女 PRON\n",
            "は ADP\n",
            "おにぎり NOUN\n",
            "を ADP\n",
            "食べ VERB\n",
            "た AUX\n"
          ]
        }
      ]
    },
    {
      "cell_type": "code",
      "source": [
        ""
      ],
      "metadata": {
        "id": "29hJJr5gAv1n"
      },
      "execution_count": null,
      "outputs": []
    }
  ]
}