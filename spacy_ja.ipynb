{
  "nbformat": 4,
  "nbformat_minor": 0,
  "metadata": {
    "colab": {
      "name": "spacy-ja.ipynb",
      "provenance": [],
      "authorship_tag": "ABX9TyMFt1nq3/L8ytdjJ6rmZMcc",
      "include_colab_link": true
    },
    "kernelspec": {
      "name": "python3",
      "display_name": "Python 3"
    },
    "language_info": {
      "name": "python"
    }
  },
  "cells": [
    {
      "cell_type": "markdown",
      "metadata": {
        "id": "view-in-github",
        "colab_type": "text"
      },
      "source": [
        "<a href=\"https://colab.research.google.com/github/matsunori39/spacy-ja/blob/main/spacy_ja.ipynb\" target=\"_parent\"><img src=\"https://colab.research.google.com/assets/colab-badge.svg\" alt=\"Open In Colab\"/></a>"
      ]
    },
    {
      "cell_type": "markdown",
      "source": [
        "# spaCyを使った先進的な自然言語処理\n",
        "https://course.spacy.io/ja"
      ],
      "metadata": {
        "id": "co5DaIhQq8kp"
      }
    },
    {
      "cell_type": "markdown",
      "source": [
        "# 第1章: 単語やフレーズ、名前、概念の検索"
      ],
      "metadata": {
        "id": "5wFiSOuYqv6i"
      }
    },
    {
      "cell_type": "markdown",
      "source": [
        "## 1.1. はじめに"
      ],
      "metadata": {
        "id": "z43oY7wQrPvT"
      }
    },
    {
      "cell_type": "code",
      "source": [
        "!pip show spacy"
      ],
      "metadata": {
        "colab": {
          "base_uri": "https://localhost:8080/"
        },
        "id": "HviGhLkirHuo",
        "outputId": "ee3d4c67-1d7c-4e12-e30c-65d5a5b1848a"
      },
      "execution_count": 1,
      "outputs": [
        {
          "output_type": "stream",
          "name": "stdout",
          "text": [
            "Name: spacy\n",
            "Version: 2.2.4\n",
            "Summary: Industrial-strength Natural Language Processing (NLP) in Python\n",
            "Home-page: https://spacy.io\n",
            "Author: Explosion\n",
            "Author-email: contact@explosion.ai\n",
            "License: MIT\n",
            "Location: /usr/local/lib/python3.7/dist-packages\n",
            "Requires: srsly, requests, numpy, murmurhash, thinc, plac, wasabi, blis, cymem, catalogue, setuptools, tqdm, preshed\n",
            "Required-by: fastai, en-core-web-sm\n"
          ]
        }
      ]
    },
    {
      "cell_type": "code",
      "source": [
        "!pip install -U spacy -q"
      ],
      "metadata": {
        "colab": {
          "base_uri": "https://localhost:8080/"
        },
        "id": "0YEXmjXrbzd9",
        "outputId": "cdde26fc-5138-47cf-e701-1124da98773f"
      },
      "execution_count": 2,
      "outputs": [
        {
          "output_type": "stream",
          "name": "stdout",
          "text": [
            "\u001b[K     |████████████████████████████████| 6.0 MB 4.5 MB/s \n",
            "\u001b[K     |████████████████████████████████| 42 kB 1.2 MB/s \n",
            "\u001b[K     |████████████████████████████████| 181 kB 58.8 MB/s \n",
            "\u001b[K     |████████████████████████████████| 451 kB 44.0 MB/s \n",
            "\u001b[K     |████████████████████████████████| 628 kB 48.1 MB/s \n",
            "\u001b[K     |████████████████████████████████| 10.1 MB 18.9 MB/s \n",
            "\u001b[?25h"
          ]
        }
      ]
    },
    {
      "cell_type": "code",
      "source": [
        "!pip show spacy"
      ],
      "metadata": {
        "colab": {
          "base_uri": "https://localhost:8080/"
        },
        "id": "j4uKSxAIkaqB",
        "outputId": "c498183d-fd17-41bd-8bf7-3d913021b9fc"
      },
      "execution_count": 3,
      "outputs": [
        {
          "output_type": "stream",
          "name": "stdout",
          "text": [
            "Name: spacy\n",
            "Version: 3.2.1\n",
            "Summary: Industrial-strength Natural Language Processing (NLP) in Python\n",
            "Home-page: https://spacy.io\n",
            "Author: Explosion\n",
            "Author-email: contact@explosion.ai\n",
            "License: MIT\n",
            "Location: /usr/local/lib/python3.7/dist-packages\n",
            "Requires: cymem, murmurhash, jinja2, typer, thinc, numpy, blis, tqdm, requests, packaging, preshed, langcodes, spacy-legacy, srsly, setuptools, pathy, pydantic, spacy-loggers, typing-extensions, wasabi, catalogue\n",
            "Required-by: fastai, en-core-web-sm\n"
          ]
        }
      ]
    },
    {
      "cell_type": "code",
      "source": [
        "!pip install spacy[ja] -q"
      ],
      "metadata": {
        "colab": {
          "base_uri": "https://localhost:8080/"
        },
        "id": "1LTwF6JjsCh-",
        "outputId": "2081485a-8f0e-4bca-ece1-8e1f96ff0376"
      },
      "execution_count": 4,
      "outputs": [
        {
          "output_type": "stream",
          "name": "stdout",
          "text": [
            "\u001b[?25l\r\u001b[K     |▏                               | 10 kB 18.8 MB/s eta 0:00:01\r\u001b[K     |▎                               | 20 kB 13.0 MB/s eta 0:00:01\r\u001b[K     |▌                               | 30 kB 9.8 MB/s eta 0:00:01\r\u001b[K     |▋                               | 40 kB 8.6 MB/s eta 0:00:01\r\u001b[K     |▊                               | 51 kB 5.2 MB/s eta 0:00:01\r\u001b[K     |█                               | 61 kB 5.2 MB/s eta 0:00:01\r\u001b[K     |█                               | 71 kB 5.6 MB/s eta 0:00:01\r\u001b[K     |█▏                              | 81 kB 6.3 MB/s eta 0:00:01\r\u001b[K     |█▍                              | 92 kB 4.8 MB/s eta 0:00:01\r\u001b[K     |█▌                              | 102 kB 5.3 MB/s eta 0:00:01\r\u001b[K     |█▋                              | 112 kB 5.3 MB/s eta 0:00:01\r\u001b[K     |█▉                              | 122 kB 5.3 MB/s eta 0:00:01\r\u001b[K     |██                              | 133 kB 5.3 MB/s eta 0:00:01\r\u001b[K     |██                              | 143 kB 5.3 MB/s eta 0:00:01\r\u001b[K     |██▎                             | 153 kB 5.3 MB/s eta 0:00:01\r\u001b[K     |██▍                             | 163 kB 5.3 MB/s eta 0:00:01\r\u001b[K     |██▋                             | 174 kB 5.3 MB/s eta 0:00:01\r\u001b[K     |██▊                             | 184 kB 5.3 MB/s eta 0:00:01\r\u001b[K     |██▉                             | 194 kB 5.3 MB/s eta 0:00:01\r\u001b[K     |███                             | 204 kB 5.3 MB/s eta 0:00:01\r\u001b[K     |███▏                            | 215 kB 5.3 MB/s eta 0:00:01\r\u001b[K     |███▎                            | 225 kB 5.3 MB/s eta 0:00:01\r\u001b[K     |███▌                            | 235 kB 5.3 MB/s eta 0:00:01\r\u001b[K     |███▋                            | 245 kB 5.3 MB/s eta 0:00:01\r\u001b[K     |███▊                            | 256 kB 5.3 MB/s eta 0:00:01\r\u001b[K     |████                            | 266 kB 5.3 MB/s eta 0:00:01\r\u001b[K     |████                            | 276 kB 5.3 MB/s eta 0:00:01\r\u001b[K     |████▏                           | 286 kB 5.3 MB/s eta 0:00:01\r\u001b[K     |████▍                           | 296 kB 5.3 MB/s eta 0:00:01\r\u001b[K     |████▌                           | 307 kB 5.3 MB/s eta 0:00:01\r\u001b[K     |████▊                           | 317 kB 5.3 MB/s eta 0:00:01\r\u001b[K     |████▉                           | 327 kB 5.3 MB/s eta 0:00:01\r\u001b[K     |█████                           | 337 kB 5.3 MB/s eta 0:00:01\r\u001b[K     |█████▏                          | 348 kB 5.3 MB/s eta 0:00:01\r\u001b[K     |█████▎                          | 358 kB 5.3 MB/s eta 0:00:01\r\u001b[K     |█████▍                          | 368 kB 5.3 MB/s eta 0:00:01\r\u001b[K     |█████▋                          | 378 kB 5.3 MB/s eta 0:00:01\r\u001b[K     |█████▊                          | 389 kB 5.3 MB/s eta 0:00:01\r\u001b[K     |█████▉                          | 399 kB 5.3 MB/s eta 0:00:01\r\u001b[K     |██████                          | 409 kB 5.3 MB/s eta 0:00:01\r\u001b[K     |██████▏                         | 419 kB 5.3 MB/s eta 0:00:01\r\u001b[K     |██████▎                         | 430 kB 5.3 MB/s eta 0:00:01\r\u001b[K     |██████▌                         | 440 kB 5.3 MB/s eta 0:00:01\r\u001b[K     |██████▋                         | 450 kB 5.3 MB/s eta 0:00:01\r\u001b[K     |██████▉                         | 460 kB 5.3 MB/s eta 0:00:01\r\u001b[K     |███████                         | 471 kB 5.3 MB/s eta 0:00:01\r\u001b[K     |███████                         | 481 kB 5.3 MB/s eta 0:00:01\r\u001b[K     |███████▎                        | 491 kB 5.3 MB/s eta 0:00:01\r\u001b[K     |███████▍                        | 501 kB 5.3 MB/s eta 0:00:01\r\u001b[K     |███████▌                        | 512 kB 5.3 MB/s eta 0:00:01\r\u001b[K     |███████▊                        | 522 kB 5.3 MB/s eta 0:00:01\r\u001b[K     |███████▉                        | 532 kB 5.3 MB/s eta 0:00:01\r\u001b[K     |████████                        | 542 kB 5.3 MB/s eta 0:00:01\r\u001b[K     |████████▏                       | 552 kB 5.3 MB/s eta 0:00:01\r\u001b[K     |████████▎                       | 563 kB 5.3 MB/s eta 0:00:01\r\u001b[K     |████████▍                       | 573 kB 5.3 MB/s eta 0:00:01\r\u001b[K     |████████▋                       | 583 kB 5.3 MB/s eta 0:00:01\r\u001b[K     |████████▊                       | 593 kB 5.3 MB/s eta 0:00:01\r\u001b[K     |█████████                       | 604 kB 5.3 MB/s eta 0:00:01\r\u001b[K     |█████████                       | 614 kB 5.3 MB/s eta 0:00:01\r\u001b[K     |█████████▏                      | 624 kB 5.3 MB/s eta 0:00:01\r\u001b[K     |█████████▍                      | 634 kB 5.3 MB/s eta 0:00:01\r\u001b[K     |█████████▌                      | 645 kB 5.3 MB/s eta 0:00:01\r\u001b[K     |█████████▋                      | 655 kB 5.3 MB/s eta 0:00:01\r\u001b[K     |█████████▉                      | 665 kB 5.3 MB/s eta 0:00:01\r\u001b[K     |██████████                      | 675 kB 5.3 MB/s eta 0:00:01\r\u001b[K     |██████████                      | 686 kB 5.3 MB/s eta 0:00:01\r\u001b[K     |██████████▎                     | 696 kB 5.3 MB/s eta 0:00:01\r\u001b[K     |██████████▍                     | 706 kB 5.3 MB/s eta 0:00:01\r\u001b[K     |██████████▌                     | 716 kB 5.3 MB/s eta 0:00:01\r\u001b[K     |██████████▊                     | 727 kB 5.3 MB/s eta 0:00:01\r\u001b[K     |██████████▉                     | 737 kB 5.3 MB/s eta 0:00:01\r\u001b[K     |███████████                     | 747 kB 5.3 MB/s eta 0:00:01\r\u001b[K     |███████████▏                    | 757 kB 5.3 MB/s eta 0:00:01\r\u001b[K     |███████████▎                    | 768 kB 5.3 MB/s eta 0:00:01\r\u001b[K     |███████████▌                    | 778 kB 5.3 MB/s eta 0:00:01\r\u001b[K     |███████████▋                    | 788 kB 5.3 MB/s eta 0:00:01\r\u001b[K     |███████████▊                    | 798 kB 5.3 MB/s eta 0:00:01\r\u001b[K     |████████████                    | 808 kB 5.3 MB/s eta 0:00:01\r\u001b[K     |████████████                    | 819 kB 5.3 MB/s eta 0:00:01\r\u001b[K     |████████████▏                   | 829 kB 5.3 MB/s eta 0:00:01\r\u001b[K     |████████████▍                   | 839 kB 5.3 MB/s eta 0:00:01\r\u001b[K     |████████████▌                   | 849 kB 5.3 MB/s eta 0:00:01\r\u001b[K     |████████████▋                   | 860 kB 5.3 MB/s eta 0:00:01\r\u001b[K     |████████████▉                   | 870 kB 5.3 MB/s eta 0:00:01\r\u001b[K     |█████████████                   | 880 kB 5.3 MB/s eta 0:00:01\r\u001b[K     |█████████████▏                  | 890 kB 5.3 MB/s eta 0:00:01\r\u001b[K     |█████████████▎                  | 901 kB 5.3 MB/s eta 0:00:01\r\u001b[K     |█████████████▍                  | 911 kB 5.3 MB/s eta 0:00:01\r\u001b[K     |█████████████▋                  | 921 kB 5.3 MB/s eta 0:00:01\r\u001b[K     |█████████████▊                  | 931 kB 5.3 MB/s eta 0:00:01\r\u001b[K     |█████████████▉                  | 942 kB 5.3 MB/s eta 0:00:01\r\u001b[K     |██████████████                  | 952 kB 5.3 MB/s eta 0:00:01\r\u001b[K     |██████████████▏                 | 962 kB 5.3 MB/s eta 0:00:01\r\u001b[K     |██████████████▎                 | 972 kB 5.3 MB/s eta 0:00:01\r\u001b[K     |██████████████▌                 | 983 kB 5.3 MB/s eta 0:00:01\r\u001b[K     |██████████████▋                 | 993 kB 5.3 MB/s eta 0:00:01\r\u001b[K     |██████████████▊                 | 1.0 MB 5.3 MB/s eta 0:00:01\r\u001b[K     |███████████████                 | 1.0 MB 5.3 MB/s eta 0:00:01\r\u001b[K     |███████████████                 | 1.0 MB 5.3 MB/s eta 0:00:01\r\u001b[K     |███████████████▎                | 1.0 MB 5.3 MB/s eta 0:00:01\r\u001b[K     |███████████████▍                | 1.0 MB 5.3 MB/s eta 0:00:01\r\u001b[K     |███████████████▌                | 1.1 MB 5.3 MB/s eta 0:00:01\r\u001b[K     |███████████████▊                | 1.1 MB 5.3 MB/s eta 0:00:01\r\u001b[K     |███████████████▉                | 1.1 MB 5.3 MB/s eta 0:00:01\r\u001b[K     |████████████████                | 1.1 MB 5.3 MB/s eta 0:00:01\r\u001b[K     |████████████████▏               | 1.1 MB 5.3 MB/s eta 0:00:01\r\u001b[K     |████████████████▎               | 1.1 MB 5.3 MB/s eta 0:00:01\r\u001b[K     |████████████████▍               | 1.1 MB 5.3 MB/s eta 0:00:01\r\u001b[K     |████████████████▋               | 1.1 MB 5.3 MB/s eta 0:00:01\r\u001b[K     |████████████████▊               | 1.1 MB 5.3 MB/s eta 0:00:01\r\u001b[K     |████████████████▉               | 1.1 MB 5.3 MB/s eta 0:00:01\r\u001b[K     |█████████████████               | 1.2 MB 5.3 MB/s eta 0:00:01\r\u001b[K     |█████████████████▏              | 1.2 MB 5.3 MB/s eta 0:00:01\r\u001b[K     |█████████████████▎              | 1.2 MB 5.3 MB/s eta 0:00:01\r\u001b[K     |█████████████████▌              | 1.2 MB 5.3 MB/s eta 0:00:01\r\u001b[K     |█████████████████▋              | 1.2 MB 5.3 MB/s eta 0:00:01\r\u001b[K     |█████████████████▉              | 1.2 MB 5.3 MB/s eta 0:00:01\r\u001b[K     |██████████████████              | 1.2 MB 5.3 MB/s eta 0:00:01\r\u001b[K     |██████████████████              | 1.2 MB 5.3 MB/s eta 0:00:01\r\u001b[K     |██████████████████▎             | 1.2 MB 5.3 MB/s eta 0:00:01\r\u001b[K     |██████████████████▍             | 1.2 MB 5.3 MB/s eta 0:00:01\r\u001b[K     |██████████████████▌             | 1.3 MB 5.3 MB/s eta 0:00:01\r\u001b[K     |██████████████████▊             | 1.3 MB 5.3 MB/s eta 0:00:01\r\u001b[K     |██████████████████▉             | 1.3 MB 5.3 MB/s eta 0:00:01\r\u001b[K     |███████████████████             | 1.3 MB 5.3 MB/s eta 0:00:01\r\u001b[K     |███████████████████▏            | 1.3 MB 5.3 MB/s eta 0:00:01\r\u001b[K     |███████████████████▎            | 1.3 MB 5.3 MB/s eta 0:00:01\r\u001b[K     |███████████████████▍            | 1.3 MB 5.3 MB/s eta 0:00:01\r\u001b[K     |███████████████████▋            | 1.3 MB 5.3 MB/s eta 0:00:01\r\u001b[K     |███████████████████▊            | 1.3 MB 5.3 MB/s eta 0:00:01\r\u001b[K     |████████████████████            | 1.4 MB 5.3 MB/s eta 0:00:01\r\u001b[K     |████████████████████            | 1.4 MB 5.3 MB/s eta 0:00:01\r\u001b[K     |████████████████████▏           | 1.4 MB 5.3 MB/s eta 0:00:01\r\u001b[K     |████████████████████▍           | 1.4 MB 5.3 MB/s eta 0:00:01\r\u001b[K     |████████████████████▌           | 1.4 MB 5.3 MB/s eta 0:00:01\r\u001b[K     |████████████████████▋           | 1.4 MB 5.3 MB/s eta 0:00:01\r\u001b[K     |████████████████████▉           | 1.4 MB 5.3 MB/s eta 0:00:01\r\u001b[K     |█████████████████████           | 1.4 MB 5.3 MB/s eta 0:00:01\r\u001b[K     |█████████████████████           | 1.4 MB 5.3 MB/s eta 0:00:01\r\u001b[K     |█████████████████████▎          | 1.4 MB 5.3 MB/s eta 0:00:01\r\u001b[K     |█████████████████████▍          | 1.5 MB 5.3 MB/s eta 0:00:01\r\u001b[K     |█████████████████████▌          | 1.5 MB 5.3 MB/s eta 0:00:01\r\u001b[K     |█████████████████████▊          | 1.5 MB 5.3 MB/s eta 0:00:01\r\u001b[K     |█████████████████████▉          | 1.5 MB 5.3 MB/s eta 0:00:01\r\u001b[K     |██████████████████████          | 1.5 MB 5.3 MB/s eta 0:00:01\r\u001b[K     |██████████████████████▏         | 1.5 MB 5.3 MB/s eta 0:00:01\r\u001b[K     |██████████████████████▎         | 1.5 MB 5.3 MB/s eta 0:00:01\r\u001b[K     |██████████████████████▌         | 1.5 MB 5.3 MB/s eta 0:00:01\r\u001b[K     |██████████████████████▋         | 1.5 MB 5.3 MB/s eta 0:00:01\r\u001b[K     |██████████████████████▊         | 1.5 MB 5.3 MB/s eta 0:00:01\r\u001b[K     |███████████████████████         | 1.6 MB 5.3 MB/s eta 0:00:01\r\u001b[K     |███████████████████████         | 1.6 MB 5.3 MB/s eta 0:00:01\r\u001b[K     |███████████████████████▏        | 1.6 MB 5.3 MB/s eta 0:00:01\r\u001b[K     |███████████████████████▍        | 1.6 MB 5.3 MB/s eta 0:00:01\r\u001b[K     |███████████████████████▌        | 1.6 MB 5.3 MB/s eta 0:00:01\r\u001b[K     |███████████████████████▋        | 1.6 MB 5.3 MB/s eta 0:00:01\r\u001b[K     |███████████████████████▉        | 1.6 MB 5.3 MB/s eta 0:00:01\r\u001b[K     |████████████████████████        | 1.6 MB 5.3 MB/s eta 0:00:01\r\u001b[K     |████████████████████████▏       | 1.6 MB 5.3 MB/s eta 0:00:01\r\u001b[K     |████████████████████████▎       | 1.6 MB 5.3 MB/s eta 0:00:01\r\u001b[K     |████████████████████████▍       | 1.7 MB 5.3 MB/s eta 0:00:01\r\u001b[K     |████████████████████████▋       | 1.7 MB 5.3 MB/s eta 0:00:01\r\u001b[K     |████████████████████████▊       | 1.7 MB 5.3 MB/s eta 0:00:01\r\u001b[K     |████████████████████████▉       | 1.7 MB 5.3 MB/s eta 0:00:01\r\u001b[K     |█████████████████████████       | 1.7 MB 5.3 MB/s eta 0:00:01\r\u001b[K     |█████████████████████████▏      | 1.7 MB 5.3 MB/s eta 0:00:01\r\u001b[K     |█████████████████████████▎      | 1.7 MB 5.3 MB/s eta 0:00:01\r\u001b[K     |█████████████████████████▌      | 1.7 MB 5.3 MB/s eta 0:00:01\r\u001b[K     |█████████████████████████▋      | 1.7 MB 5.3 MB/s eta 0:00:01\r\u001b[K     |█████████████████████████▊      | 1.8 MB 5.3 MB/s eta 0:00:01\r\u001b[K     |██████████████████████████      | 1.8 MB 5.3 MB/s eta 0:00:01\r\u001b[K     |██████████████████████████      | 1.8 MB 5.3 MB/s eta 0:00:01\r\u001b[K     |██████████████████████████▎     | 1.8 MB 5.3 MB/s eta 0:00:01\r\u001b[K     |██████████████████████████▍     | 1.8 MB 5.3 MB/s eta 0:00:01\r\u001b[K     |██████████████████████████▌     | 1.8 MB 5.3 MB/s eta 0:00:01\r\u001b[K     |██████████████████████████▊     | 1.8 MB 5.3 MB/s eta 0:00:01\r\u001b[K     |██████████████████████████▉     | 1.8 MB 5.3 MB/s eta 0:00:01\r\u001b[K     |███████████████████████████     | 1.8 MB 5.3 MB/s eta 0:00:01\r\u001b[K     |███████████████████████████▏    | 1.8 MB 5.3 MB/s eta 0:00:01\r\u001b[K     |███████████████████████████▎    | 1.9 MB 5.3 MB/s eta 0:00:01\r\u001b[K     |███████████████████████████▍    | 1.9 MB 5.3 MB/s eta 0:00:01\r\u001b[K     |███████████████████████████▋    | 1.9 MB 5.3 MB/s eta 0:00:01\r\u001b[K     |███████████████████████████▊    | 1.9 MB 5.3 MB/s eta 0:00:01\r\u001b[K     |███████████████████████████▉    | 1.9 MB 5.3 MB/s eta 0:00:01\r\u001b[K     |████████████████████████████    | 1.9 MB 5.3 MB/s eta 0:00:01\r\u001b[K     |████████████████████████████▏   | 1.9 MB 5.3 MB/s eta 0:00:01\r\u001b[K     |████████████████████████████▍   | 1.9 MB 5.3 MB/s eta 0:00:01\r\u001b[K     |████████████████████████████▌   | 1.9 MB 5.3 MB/s eta 0:00:01\r\u001b[K     |████████████████████████████▋   | 1.9 MB 5.3 MB/s eta 0:00:01\r\u001b[K     |████████████████████████████▉   | 2.0 MB 5.3 MB/s eta 0:00:01\r\u001b[K     |█████████████████████████████   | 2.0 MB 5.3 MB/s eta 0:00:01\r\u001b[K     |█████████████████████████████   | 2.0 MB 5.3 MB/s eta 0:00:01\r\u001b[K     |█████████████████████████████▎  | 2.0 MB 5.3 MB/s eta 0:00:01\r\u001b[K     |█████████████████████████████▍  | 2.0 MB 5.3 MB/s eta 0:00:01\r\u001b[K     |█████████████████████████████▌  | 2.0 MB 5.3 MB/s eta 0:00:01\r\u001b[K     |█████████████████████████████▊  | 2.0 MB 5.3 MB/s eta 0:00:01\r\u001b[K     |█████████████████████████████▉  | 2.0 MB 5.3 MB/s eta 0:00:01\r\u001b[K     |██████████████████████████████  | 2.0 MB 5.3 MB/s eta 0:00:01\r\u001b[K     |██████████████████████████████▏ | 2.0 MB 5.3 MB/s eta 0:00:01\r\u001b[K     |██████████████████████████████▎ | 2.1 MB 5.3 MB/s eta 0:00:01\r\u001b[K     |██████████████████████████████▌ | 2.1 MB 5.3 MB/s eta 0:00:01\r\u001b[K     |██████████████████████████████▋ | 2.1 MB 5.3 MB/s eta 0:00:01\r\u001b[K     |██████████████████████████████▊ | 2.1 MB 5.3 MB/s eta 0:00:01\r\u001b[K     |███████████████████████████████ | 2.1 MB 5.3 MB/s eta 0:00:01\r\u001b[K     |███████████████████████████████ | 2.1 MB 5.3 MB/s eta 0:00:01\r\u001b[K     |███████████████████████████████▏| 2.1 MB 5.3 MB/s eta 0:00:01\r\u001b[K     |███████████████████████████████▍| 2.1 MB 5.3 MB/s eta 0:00:01\r\u001b[K     |███████████████████████████████▌| 2.1 MB 5.3 MB/s eta 0:00:01\r\u001b[K     |███████████████████████████████▋| 2.2 MB 5.3 MB/s eta 0:00:01\r\u001b[K     |███████████████████████████████▉| 2.2 MB 5.3 MB/s eta 0:00:01\r\u001b[K     |████████████████████████████████| 2.2 MB 5.3 MB/s eta 0:00:01\r\u001b[K     |████████████████████████████████| 2.2 MB 5.3 MB/s \n",
            "\u001b[?25h  Building wheel for sudachidict-core (setup.py) ... \u001b[?25l\u001b[?25hdone\n"
          ]
        }
      ]
    },
    {
      "cell_type": "markdown",
      "source": [
        "nlpオブジェクト"
      ],
      "metadata": {
        "id": "gZK8eR5vrYKy"
      }
    },
    {
      "cell_type": "code",
      "source": [
        "# spaCyをインポート\n",
        "import spacy\n",
        "\n",
        "# 日本語のnlpオブジェクトを作成\n",
        "nlp = spacy.blank(\"ja\")"
      ],
      "metadata": {
        "id": "WkKvbG2IrhJQ"
      },
      "execution_count": 5,
      "outputs": []
    },
    {
      "cell_type": "markdown",
      "source": [
        "Docオブジェクト"
      ],
      "metadata": {
        "id": "l5hi70fTrskV"
      }
    },
    {
      "cell_type": "code",
      "source": [
        "# nlpを用いて、テキストを処理することで作成\n",
        "doc = nlp(\"おはようございます!\")\n",
        "\n",
        "# Docからtokenを取り出す\n",
        "for token in doc:\n",
        "    print(token.text)"
      ],
      "metadata": {
        "colab": {
          "base_uri": "https://localhost:8080/"
        },
        "id": "sjCjNcaljTg3",
        "outputId": "768e3814-47a5-4375-ae83-97f7a5f6bd5a"
      },
      "execution_count": 6,
      "outputs": [
        {
          "output_type": "stream",
          "name": "stdout",
          "text": [
            "おはよう\n",
            "ござい\n",
            "ます\n",
            "!\n"
          ]
        }
      ]
    },
    {
      "cell_type": "code",
      "source": [
        ""
      ],
      "metadata": {
        "id": "NrWPBVPLjZE2"
      },
      "execution_count": null,
      "outputs": []
    }
  ]
}